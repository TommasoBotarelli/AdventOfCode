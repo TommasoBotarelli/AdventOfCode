{
 "cells": [
  {
   "cell_type": "code",
   "execution_count": 1,
   "id": "bd3dd7ab-ae94-4039-9f1e-aa587481587c",
   "metadata": {},
   "outputs": [],
   "source": [
    "def getFirstNumber(lineString: str) -> str:\n",
    "    for char in lineString:\n",
    "        if char.isdigit():\n",
    "            return char"
   ]
  },
  {
   "cell_type": "code",
   "execution_count": 2,
   "id": "0ef4fa35-69ef-456e-b388-20fb229d9dca",
   "metadata": {},
   "outputs": [],
   "source": [
    "def getLineNumber(lineString: str) -> int:\n",
    "    firstNumber = getFirstNumber(lineString)\n",
    "    reversedString = \"\".join(reversed(lineString))\n",
    "    secondNumber = getFirstNumber(reversedString)\n",
    "    return int(firstNumber + secondNumber)"
   ]
  },
  {
   "cell_type": "code",
   "execution_count": 3,
   "id": "6ec35362-674b-45ac-85bd-583d487f328a",
   "metadata": {},
   "outputs": [
    {
     "name": "stdout",
     "output_type": "stream",
     "text": [
      "54667\n"
     ]
    }
   ],
   "source": [
    "sum = 0\n",
    "with open(\"filesExercises/1.txt\") as file:\n",
    "    for line in file:\n",
    "       sum += getLineNumber(line)\n",
    "print(sum)"
   ]
  },
  {
   "cell_type": "code",
   "execution_count": 4,
   "id": "95825585-f395-464a-91ea-733f7aec986e",
   "metadata": {},
   "outputs": [],
   "source": [
    "numberAccepted = ['one', 'two', 'three', 'four', 'five', 'six', 'seven', 'eight', 'nine']\n",
    "numberConversion = ['1', '2', '3', '4', '5', '6', '7', '8', '9']"
   ]
  },
  {
   "cell_type": "code",
   "execution_count": 5,
   "id": "867ebfd6-6eeb-4d15-9f04-7721d50d7bb6",
   "metadata": {},
   "outputs": [],
   "source": [
    "def checkIfStringIsNumber(subString: str):\n",
    "    for i, number in enumerate(numberAccepted):\n",
    "        if number in subString or \"\".join(reversed(number)) in subString:\n",
    "            return numberConversion[i]\n",
    "    return None"
   ]
  },
  {
   "cell_type": "code",
   "execution_count": 6,
   "id": "4ba218f2-6e5d-491f-baf2-2f5dd3c32b29",
   "metadata": {},
   "outputs": [],
   "source": [
    "def getFirstNumber2(lineString: str) -> str:\n",
    "    subString = \"\"\n",
    "    for char in lineString:\n",
    "        if char.isdigit():\n",
    "            return char\n",
    "        else:\n",
    "            subString = subString + char\n",
    "            number = checkIfStringIsNumber(subString)\n",
    "            if number is not None:\n",
    "                return number"
   ]
  },
  {
   "cell_type": "code",
   "execution_count": 7,
   "id": "6e05c4e8-c928-4690-b1b6-02df6cebd7c6",
   "metadata": {},
   "outputs": [],
   "source": [
    "def getLineNumber2(lineString: str) -> int:\n",
    "    firstNumber = getFirstNumber2(lineString)\n",
    "    reversedString = \"\".join(reversed(lineString))\n",
    "    secondNumber = getFirstNumber2(reversedString)\n",
    "    \n",
    "    return int(firstNumber + secondNumber)"
   ]
  },
  {
   "cell_type": "code",
   "execution_count": 8,
   "id": "97a2c060-1183-479e-bc10-5d3f8617dd6b",
   "metadata": {},
   "outputs": [
    {
     "name": "stdout",
     "output_type": "stream",
     "text": [
      "54203\n"
     ]
    }
   ],
   "source": [
    "sum = 0\n",
    "with open(\"filesExercises/1.txt\") as file:\n",
    "    for line in file:\n",
    "       sum += getLineNumber2(line)\n",
    "print(sum)"
   ]
  },
  {
   "cell_type": "code",
   "execution_count": 9,
   "id": "b02fbeed-5abc-46bf-8b99-a1803332e89d",
   "metadata": {},
   "outputs": [],
   "source": [
    "texts = ['two1nine', 'eightwothree', 'abcone2threexyz', 'xtwone3four', '4nineeightseven2', 'zoneight234', '7pqrstsixteen']"
   ]
  },
  {
   "cell_type": "code",
   "execution_count": 10,
   "id": "a6e71255-4227-46b2-9f2e-f79eee1b2175",
   "metadata": {},
   "outputs": [
    {
     "name": "stdout",
     "output_type": "stream",
     "text": [
      "281\n"
     ]
    }
   ],
   "source": [
    "sum = 0\n",
    "for message in texts:\n",
    "    sum += getLineNumber2(message)\n",
    "print(sum)"
   ]
  }
 ],
 "metadata": {
  "kernelspec": {
   "display_name": "Python 3 (ipykernel)",
   "language": "python",
   "name": "python3"
  },
  "language_info": {
   "codemirror_mode": {
    "name": "ipython",
    "version": 3
   },
   "file_extension": ".py",
   "mimetype": "text/x-python",
   "name": "python",
   "nbconvert_exporter": "python",
   "pygments_lexer": "ipython3",
   "version": "3.11.4"
  }
 },
 "nbformat": 4,
 "nbformat_minor": 5
}
