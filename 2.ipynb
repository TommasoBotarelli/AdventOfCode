{
 "cells": [
  {
   "cell_type": "code",
   "execution_count": 1,
   "id": "1a95c801-0d09-4639-89ae-806df956ab8a",
   "metadata": {},
   "outputs": [],
   "source": [
    "availableCubes = {\n",
    "    \"red\": 12,\n",
    "    \"green\": 13,\n",
    "    \"blue\": 14\n",
    "}"
   ]
  },
  {
   "cell_type": "code",
   "execution_count": 2,
   "id": "a3d19430-6209-4304-9261-a64c0c5bdc0c",
   "metadata": {},
   "outputs": [],
   "source": [
    "import re"
   ]
  },
  {
   "cell_type": "code",
   "execution_count": 3,
   "id": "7f75a5fb-c92f-4e98-8426-91521099168d",
   "metadata": {},
   "outputs": [],
   "source": [
    "def getID(lineString: str) -> int:\n",
    "    idPart = re.split(\": \", lineString)\n",
    "    id = re.split(\"Game \", idPart[0])\n",
    "    return int(id[1])"
   ]
  },
  {
   "cell_type": "code",
   "execution_count": 4,
   "id": "17c8cbee-651c-41b1-98f4-68da335896a4",
   "metadata": {},
   "outputs": [],
   "source": [
    "def checkIfOK(sumDict):\n",
    "    for key in list(sumDict.keys()):\n",
    "        if sumDict[key] > availableCubes[key]:\n",
    "            return False\n",
    "    return True"
   ]
  },
  {
   "cell_type": "code",
   "execution_count": 5,
   "id": "f9ef8947-ee7d-46f9-8013-6c07ad59cb46",
   "metadata": {},
   "outputs": [],
   "source": [
    "def checkValidity(lineString: str):\n",
    "    allSets = re.split(\".*: \", lineString)[1]\n",
    "    dividedSets = re.split(\"; \", allSets)\n",
    "    for launchSet in dividedSets:\n",
    "        launchSetDivided = re.split(\", \", launchSet)\n",
    "        launchSum = {\n",
    "            \"red\": 0,\n",
    "            \"green\": 0,\n",
    "            \"blue\": 0\n",
    "        }\n",
    "        for movingLaunch in launchSetDivided:\n",
    "            number = int(re.split(\" \", movingLaunch)[0])\n",
    "            color = re.split(\" \", movingLaunch)[1]\n",
    "            launchSum[color] = launchSum[color] + number\n",
    "        if not checkIfOK(launchSum):\n",
    "            return False\n",
    "    return True"
   ]
  },
  {
   "cell_type": "code",
   "execution_count": 6,
   "id": "7181276d-4a7a-48d3-852d-176e01df1471",
   "metadata": {},
   "outputs": [
    {
     "name": "stdout",
     "output_type": "stream",
     "text": [
      "2771\n"
     ]
    }
   ],
   "source": [
    "sum = 0\n",
    "with open(\"filesExercises/2.txt\") as file:\n",
    "    for line in file:\n",
    "        actualID = getID(line)\n",
    "        cleanLine = line.replace(\"\\n\", \"\")\n",
    "        if checkValidity(cleanLine):\n",
    "            sum += actualID\n",
    "print(sum)"
   ]
  },
  {
   "cell_type": "code",
   "execution_count": 7,
   "id": "68034e94-d58a-480e-98d3-edb1eedd659e",
   "metadata": {},
   "outputs": [],
   "source": [
    "def updateDict(lineLaunchMinimumSet, actualSetDict):\n",
    "    for key in list(actualSetDict.keys()):\n",
    "        if actualSetDict[key] > lineLaunchMinimumSet[key]:\n",
    "            lineLaunchMinimumSet[key] = actualSetDict[key]"
   ]
  },
  {
   "cell_type": "code",
   "execution_count": 8,
   "id": "14a0eb32-ffc2-43ac-8dee-3049fa3669af",
   "metadata": {},
   "outputs": [],
   "source": [
    "def getMinimumSet(lineString: str):\n",
    "    allSets = re.split(\".*: \", lineString)[1]\n",
    "    dividedSets = re.split(\"; \", allSets)\n",
    "    lineLaunchMinimumSet = {\n",
    "        \"red\": 0,\n",
    "        \"green\": 0,\n",
    "        \"blue\": 0\n",
    "    }\n",
    "    for launchSet in dividedSets:\n",
    "        launchSetDivided = re.split(\", \", launchSet)\n",
    "        launchNecessaryCubes = {\n",
    "            \"red\": 0,\n",
    "            \"green\": 0,\n",
    "            \"blue\": 0\n",
    "        }\n",
    "        for movingLaunch in launchSetDivided:\n",
    "            number = int(re.split(\" \", movingLaunch)[0])\n",
    "            color = re.split(\" \", movingLaunch)[1]\n",
    "            launchNecessaryCubes[color] = launchNecessaryCubes[color] + number\n",
    "            \n",
    "        updateDict(lineLaunchMinimumSet, launchNecessaryCubes)\n",
    "        \n",
    "    return lineLaunchMinimumSet"
   ]
  },
  {
   "cell_type": "code",
   "execution_count": 9,
   "id": "f91aadc0-a842-417c-9d08-4bbb8e4f8a1c",
   "metadata": {},
   "outputs": [],
   "source": [
    "def powerOfCubes(cubesDict):\n",
    "    power = 1\n",
    "    for key in list(cubesDict.keys()):\n",
    "        power *= cubesDict[key]\n",
    "    return power"
   ]
  },
  {
   "cell_type": "code",
   "execution_count": 10,
   "id": "d8376a6c-be01-4ce0-b5e7-574ac329f138",
   "metadata": {},
   "outputs": [
    {
     "name": "stdout",
     "output_type": "stream",
     "text": [
      "70924\n"
     ]
    }
   ],
   "source": [
    "with open(\"filesExercises/2.txt\") as file:\n",
    "    sum = 0\n",
    "    for line in file:\n",
    "        actualID = getID(line)\n",
    "        cleanLine = line.replace(\"\\n\", \"\")\n",
    "        sum += powerOfCubes(getMinimumSet(cleanLine))\n",
    "\n",
    "print(sum)"
   ]
  }
 ],
 "metadata": {
  "kernelspec": {
   "display_name": "Python 3 (ipykernel)",
   "language": "python",
   "name": "python3"
  },
  "language_info": {
   "codemirror_mode": {
    "name": "ipython",
    "version": 3
   },
   "file_extension": ".py",
   "mimetype": "text/x-python",
   "name": "python",
   "nbconvert_exporter": "python",
   "pygments_lexer": "ipython3",
   "version": "3.11.4"
  }
 },
 "nbformat": 4,
 "nbformat_minor": 5
}
